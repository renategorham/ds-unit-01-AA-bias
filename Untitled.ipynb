{
 "cells": [
  {
   "cell_type": "markdown",
   "metadata": {},
   "source": [
    "# A/A Testing and Bias"
   ]
  },
  {
   "cell_type": "markdown",
   "metadata": {},
   "source": [
    "\n",
    "    You're testing advertising emails for a bathing suit company and you test one version of the email in February and the other in May.\n",
    "    You open a clinic to treat anxiety and find that the people who visit show a higher rate of anxiety than the general population.\n",
    "    You launch a new ad billboard based campaign and see an increase in website visits in the first week.\n",
    "    You launch a loyalty program but see no change in visits in the first week.\n"
   ]
  },
  {
   "cell_type": "markdown",
   "metadata": {},
   "source": [
    "##### You're testing advertising emails for a bathing suit company and you test one version of the email in February and the other in May.  \n",
    "1) The study will likely have some contextual bias, as swim suit opinions may differ naturally between February and May. \n",
    "\n",
    "2) The initial study appears to be an A/B test, with studying the effect of two email version. \n",
    "\n",
    "3) To protect from contextual bias, and if February and May are the target months, both email versions should be used in each month."
   ]
  },
  {
   "cell_type": "markdown",
   "metadata": {},
   "source": [
    "##### You open a clinic to treat anxiety and find that the people who visit show a higher rate of anxiety than the general population.  \n",
    "1) The study will likely have conditional bias, as people visiting a (presumably) mental health clinic are more likely to seek help (and visit the clinic). \n",
    "\n",
    "2) The initial design seems to try to uncover anxiety rates in a population.  \n",
    "\n",
    "3) To protect from conditional bias, randomly sample based on demographic and socio-economic factors."
   ]
  },
  {
   "cell_type": "markdown",
   "metadata": {},
   "source": [
    "##### You launch a new ad billboard based campaign and see an increase in website visits in the first week.  \n",
    "1) The study may have observer bias. The increase in website visits may only be due to the natural variation in site visits.  \n",
    "\n",
    "2) The initial study was designed to determine the consequence of a billboard ad campaign. Assume there is no control information (site visits during the study period without viewing the billboard.  \n",
    "\n",
    "3) Set up the study in random media markets. Some markets with the campaign and some without. Track by IP address where visits originate, though, not perfect there will be better information of the true effect from the billboard."
   ]
  },
  {
   "cell_type": "markdown",
   "metadata": {},
   "source": [
    "#####  You launch a loyalty program but see no change in visits in the first week.  \n",
    "1) The study may have conditional bias, that is the visitors to the site that may enroll in the loyalty program may already be frequent visitors.  \n",
    "\n",
    "2) The initial study was designed to determine the effect of the loyalty program.  \n",
    "\n",
    "3) tudy visitors who have signed up for the loyalty program in the first week and in some future week; where the hypothesis is that enrolling in a loyalty program will increase visits. Second, "
   ]
  }
 ],
 "metadata": {
  "kernelspec": {
   "display_name": "Python 3",
   "language": "python",
   "name": "python3"
  },
  "language_info": {
   "codemirror_mode": {
    "name": "ipython",
    "version": 3
   },
   "file_extension": ".py",
   "mimetype": "text/x-python",
   "name": "python",
   "nbconvert_exporter": "python",
   "pygments_lexer": "ipython3",
   "version": "3.7.0"
  },
  "toc": {
   "base_numbering": 1,
   "nav_menu": {},
   "number_sections": true,
   "sideBar": true,
   "skip_h1_title": true,
   "title_cell": "",
   "title_sidebar": "Contents",
   "toc_cell": false,
   "toc_position": {},
   "toc_section_display": true,
   "toc_window_display": true
  }
 },
 "nbformat": 4,
 "nbformat_minor": 2
}
